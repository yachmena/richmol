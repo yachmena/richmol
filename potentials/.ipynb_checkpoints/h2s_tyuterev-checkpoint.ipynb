{
 "cells": [
  {
   "cell_type": "markdown",
   "id": "72ed3ba8",
   "metadata": {},
   "source": [
    "# Potential energy surface of H$_2$S from TROVE/ExoMol"
   ]
  },
  {
   "cell_type": "code",
   "execution_count": 1,
   "id": "550a0eaa",
   "metadata": {},
   "outputs": [],
   "source": [
    "import numpy as np"
   ]
  },
  {
   "cell_type": "code",
   "execution_count": 2,
   "id": "ad603aa5",
   "metadata": {},
   "outputs": [
    {
     "name": "stdout",
     "output_type": "stream",
     "text": [
      "rm: h2s_tyuterev.pyf: No such file or directory\n",
      "Reading fortran codes...\n",
      "\tReading file 'h2s_tyuterev.f90' (format:free)\n",
      "Post-processing...\n",
      "\tBlock: h2s_tyuterev\n",
      "\t\t\tBlock: h2s_tyuterev\n",
      "\t\t\tBlock: poten_xy2_tyuterev\n",
      "Post-processing (stage 2)...\n",
      "Saving signatures to file \"./h2s_tyuterev.pyf\"\n"
     ]
    }
   ],
   "source": [
    "!rm h2s_tyuterev.pyf\n",
    "!f2py -m h2s_tyuterev -h h2s_tyuterev.pyf h2s_tyuterev.f90"
   ]
  },
  {
   "cell_type": "code",
   "execution_count": 3,
   "id": "482852f2",
   "metadata": {},
   "outputs": [
    {
     "name": "stdout",
     "output_type": "stream",
     "text": [
      "!    -*- f90 -*-\r\n",
      "! Note: the context of this file is case sensitive.\r\n",
      "\r\n",
      "python module h2s_tyuterev ! in \r\n",
      "    interface  ! in :h2s_tyuterev\r\n",
      "        subroutine h2s_tyuterev(npoints,r12,r32,alpha,f) ! in :h2s_tyuterev:h2s_tyuterev.f90\r\n",
      "            integer, optional,intent(in),check(len(r12)>=npoints),depend(r12) :: npoints=len(r12)\r\n",
      "            real(kind=8) dimension(npoints),intent(in) :: r12\r\n",
      "            real(kind=8) dimension(npoints),intent(in),depend(npoints) :: r32\r\n",
      "            real(kind=8) dimension(npoints),intent(in),depend(npoints) :: alpha\r\n",
      "            real(kind=8) dimension(npoints),intent(out),depend(npoints) :: f\r\n",
      "        end subroutine h2s_tyuterev\r\n",
      "        subroutine poten_xy2_tyuterev(npoints,nparams,r12,r32,alpha,params,f) ! in :h2s_tyuterev:h2s_tyuterev.f90\r\n",
      "            integer, optional,intent(in),check(len(r12)>=npoints),depend(r12) :: npoints=len(r12)\r\n",
      "            integer, optional,intent(in),check(len(params)>=nparams),depend(params) :: nparams=len(params)\r\n",
      "            real(kind=8) dimension(npoints),intent(in) :: r12\r\n",
      "            real(kind=8) dimension(npoints),intent(in),depend(npoints) :: r32\r\n",
      "            real(kind=8) dimension(npoints),intent(in),depend(npoints) :: alpha\r\n",
      "            real(kind=8) dimension(nparams),intent(in) :: params\r\n",
      "            real(kind=8) dimension(npoints),intent(out),depend(npoints) :: f\r\n",
      "        end subroutine poten_xy2_tyuterev\r\n",
      "    end interface \r\n",
      "end python module h2s_tyuterev\r\n",
      "\r\n",
      "! This file was auto-generated with f2py (version:1.21.2).\r\n",
      "! See http://cens.ioc.ee/projects/f2py2e/\r\n"
     ]
    }
   ],
   "source": [
    "!cat h2s_tyuterev.pyf"
   ]
  },
  {
   "cell_type": "code",
   "execution_count": 4,
   "id": "b8e3afb8",
   "metadata": {},
   "outputs": [
    {
     "name": "stdout",
     "output_type": "stream",
     "text": [
      "\u001b[39mrunning build\u001b[0m\n",
      "\u001b[39mrunning config_cc\u001b[0m\n",
      "\u001b[39munifing config_cc, config, build_clib, build_ext, build commands --compiler options\u001b[0m\n",
      "\u001b[39mrunning config_fc\u001b[0m\n",
      "\u001b[39munifing config_fc, config, build_clib, build_ext, build commands --fcompiler options\u001b[0m\n",
      "\u001b[39mrunning build_src\u001b[0m\n",
      "\u001b[39mbuild_src\u001b[0m\n",
      "\u001b[39mbuilding extension \"h2s_tyuterev\" sources\u001b[0m\n",
      "\u001b[39mcreating /var/folders/q6/by5wy_h90n96s1v6nb3t_qpc0000gn/T/tmpedr5a2om/src.macosx-11.0-arm64-3.9\u001b[0m\n",
      "\u001b[39mf2py options: []\u001b[0m\n",
      "\u001b[39mf2py: h2s_tyuterev.pyf\u001b[0m\n",
      "Reading fortran codes...\n",
      "\tReading file 'h2s_tyuterev.pyf' (format:free)\n",
      "Post-processing...\n",
      "\tBlock: h2s_tyuterev\n",
      "\t\t\tBlock: h2s_tyuterev\n",
      "\t\t\tBlock: poten_xy2_tyuterev\n",
      "Post-processing (stage 2)...\n",
      "Building modules...\n",
      "\tBuilding module \"h2s_tyuterev\"...\n",
      "\t\tConstructing wrapper function \"h2s_tyuterev\"...\n",
      "\t\t  f = h2s_tyuterev(r12,r32,alpha,[npoints])\n",
      "\t\tConstructing wrapper function \"poten_xy2_tyuterev\"...\n",
      "\t\t  f = poten_xy2_tyuterev(r12,r32,alpha,params,[npoints,nparams])\n",
      "\tWrote C/API module \"h2s_tyuterev\" to file \"/var/folders/q6/by5wy_h90n96s1v6nb3t_qpc0000gn/T/tmpedr5a2om/src.macosx-11.0-arm64-3.9/h2s_tyuterevmodule.c\"\n",
      "\u001b[39m  adding '/var/folders/q6/by5wy_h90n96s1v6nb3t_qpc0000gn/T/tmpedr5a2om/src.macosx-11.0-arm64-3.9/fortranobject.c' to sources.\u001b[0m\n",
      "\u001b[39m  adding '/var/folders/q6/by5wy_h90n96s1v6nb3t_qpc0000gn/T/tmpedr5a2om/src.macosx-11.0-arm64-3.9' to include_dirs.\u001b[0m\n",
      "\u001b[39mcopying /opt/homebrew/Caskroom/miniforge/base/lib/python3.9/site-packages/numpy/f2py/src/fortranobject.c -> /var/folders/q6/by5wy_h90n96s1v6nb3t_qpc0000gn/T/tmpedr5a2om/src.macosx-11.0-arm64-3.9\u001b[0m\n",
      "\u001b[39mcopying /opt/homebrew/Caskroom/miniforge/base/lib/python3.9/site-packages/numpy/f2py/src/fortranobject.h -> /var/folders/q6/by5wy_h90n96s1v6nb3t_qpc0000gn/T/tmpedr5a2om/src.macosx-11.0-arm64-3.9\u001b[0m\n",
      "\u001b[39mbuild_src: building npy-pkg config files\u001b[0m\n",
      "\u001b[39mrunning build_ext\u001b[0m\n",
      "\u001b[39mcustomize UnixCCompiler\u001b[0m\n",
      "\u001b[39mcustomize UnixCCompiler using build_ext\u001b[0m\n",
      "\u001b[39mget_default_fcompiler: matching types: '['gnu95', 'nag', 'absoft', 'ibm', 'intel', 'gnu', 'g95', 'pg']'\u001b[0m\n",
      "\u001b[39mcustomize Gnu95FCompiler\u001b[0m\n",
      "\u001b[39mFound executable /opt/homebrew/bin/gfortran\u001b[0m\n",
      "\u001b[39mcustomize Gnu95FCompiler\u001b[0m\n",
      "\u001b[39mcustomize Gnu95FCompiler using build_ext\u001b[0m\n",
      "\u001b[39mbuilding 'h2s_tyuterev' extension\u001b[0m\n",
      "\u001b[39mcompiling C sources\u001b[0m\n",
      "\u001b[39mC compiler: clang -Wno-unused-result -Wsign-compare -Wunreachable-code -DNDEBUG -fwrapv -O2 -Wall -fPIC -O2 -isystem /opt/homebrew/Caskroom/miniforge/base/include -arch arm64 -fPIC -O2 -isystem /opt/homebrew/Caskroom/miniforge/base/include -arch arm64\n",
      "\u001b[0m\n",
      "\u001b[39mcreating /var/folders/q6/by5wy_h90n96s1v6nb3t_qpc0000gn/T/tmpedr5a2om/var\u001b[0m\n",
      "\u001b[39mcreating /var/folders/q6/by5wy_h90n96s1v6nb3t_qpc0000gn/T/tmpedr5a2om/var/folders\u001b[0m\n",
      "\u001b[39mcreating /var/folders/q6/by5wy_h90n96s1v6nb3t_qpc0000gn/T/tmpedr5a2om/var/folders/q6\u001b[0m\n",
      "\u001b[39mcreating /var/folders/q6/by5wy_h90n96s1v6nb3t_qpc0000gn/T/tmpedr5a2om/var/folders/q6/by5wy_h90n96s1v6nb3t_qpc0000gn\u001b[0m\n",
      "\u001b[39mcreating /var/folders/q6/by5wy_h90n96s1v6nb3t_qpc0000gn/T/tmpedr5a2om/var/folders/q6/by5wy_h90n96s1v6nb3t_qpc0000gn/T\u001b[0m\n",
      "\u001b[39mcreating /var/folders/q6/by5wy_h90n96s1v6nb3t_qpc0000gn/T/tmpedr5a2om/var/folders/q6/by5wy_h90n96s1v6nb3t_qpc0000gn/T/tmpedr5a2om\u001b[0m\n",
      "\u001b[39mcreating /var/folders/q6/by5wy_h90n96s1v6nb3t_qpc0000gn/T/tmpedr5a2om/var/folders/q6/by5wy_h90n96s1v6nb3t_qpc0000gn/T/tmpedr5a2om/src.macosx-11.0-arm64-3.9\u001b[0m\n",
      "\u001b[39mcompile options: '-DNPY_DISABLE_OPTIMIZATION=1 -I/var/folders/q6/by5wy_h90n96s1v6nb3t_qpc0000gn/T/tmpedr5a2om/src.macosx-11.0-arm64-3.9 -I/opt/homebrew/Caskroom/miniforge/base/lib/python3.9/site-packages/numpy/core/include -I/opt/homebrew/Caskroom/miniforge/base/include/python3.9 -c'\u001b[0m\n",
      "\u001b[39mclang: /var/folders/q6/by5wy_h90n96s1v6nb3t_qpc0000gn/T/tmpedr5a2om/src.macosx-11.0-arm64-3.9/fortranobject.c\u001b[0m\n",
      "\u001b[39mclang: /var/folders/q6/by5wy_h90n96s1v6nb3t_qpc0000gn/T/tmpedr5a2om/src.macosx-11.0-arm64-3.9/h2s_tyuterevmodule.c\u001b[0m\n",
      "In file included from In file included from /var/folders/q6/by5wy_h90n96s1v6nb3t_qpc0000gn/T/tmpedr5a2om/src.macosx-11.0-arm64-3.9/h2s_tyuterevmodule.c/var/folders/q6/by5wy_h90n96s1v6nb3t_qpc0000gn/T/tmpedr5a2om/src.macosx-11.0-arm64-3.9/fortranobject.c::162:\n",
      ":\n",
      "In file included from In file included from /var/folders/q6/by5wy_h90n96s1v6nb3t_qpc0000gn/T/tmpedr5a2om/src.macosx-11.0-arm64-3.9/fortranobject.h/var/folders/q6/by5wy_h90n96s1v6nb3t_qpc0000gn/T/tmpedr5a2om/src.macosx-11.0-arm64-3.9/fortranobject.h::1313:\n",
      ":\n",
      "In file included from In file included from /opt/homebrew/Caskroom/miniforge/base/lib/python3.9/site-packages/numpy/core/include/numpy/arrayobject.h/opt/homebrew/Caskroom/miniforge/base/lib/python3.9/site-packages/numpy/core/include/numpy/arrayobject.h::44:\n",
      ":\n",
      "In file included from In file included from /opt/homebrew/Caskroom/miniforge/base/lib/python3.9/site-packages/numpy/core/include/numpy/ndarrayobject.h/opt/homebrew/Caskroom/miniforge/base/lib/python3.9/site-packages/numpy/core/include/numpy/ndarrayobject.h::1212:\n",
      ":\n",
      "In file included from In file included from /opt/homebrew/Caskroom/miniforge/base/lib/python3.9/site-packages/numpy/core/include/numpy/ndarraytypes.h/opt/homebrew/Caskroom/miniforge/base/lib/python3.9/site-packages/numpy/core/include/numpy/ndarraytypes.h::19691969:\n",
      ":\n",
      "\u001b[1m\u001b[1m/opt/homebrew/Caskroom/miniforge/base/lib/python3.9/site-packages/numpy/core/include/numpy/npy_1_7_deprecated_api.h/opt/homebrew/Caskroom/miniforge/base/lib/python3.9/site-packages/numpy/core/include/numpy/npy_1_7_deprecated_api.h::1717::22::  \u001b[0m\u001b[0m\u001b[0;1;35m\u001b[0;1;35mwarningwarning: : \u001b[0m\u001b[0m\u001b[1m\u001b[1m\"Using deprecated NumPy API, disable it with \"          \"#define NPY_NO_DEPRECATED_API NPY_1_7_API_VERSION\" [-W#warnings]\"Using deprecated NumPy API, disable it with \"          \"#define NPY_NO_DEPRECATED_API NPY_1_7_API_VERSION\" [-W#warnings]\u001b[0m\u001b[0m\n",
      "\n",
      "#warning \"Using deprecated NumPy API, disable it with \" \\#warning \"Using deprecated NumPy API, disable it with \" \\\n",
      "\n",
      "\u001b[0;1;32m\u001b[0;1;32m ^ ^\n",
      "\n",
      "\u001b[0m\u001b[0m\u001b[1m/var/folders/q6/by5wy_h90n96s1v6nb3t_qpc0000gn/T/tmpedr5a2om/src.macosx-11.0-arm64-3.9/h2s_tyuterevmodule.c:109:12: \u001b[0m\u001b[0;1;35mwarning: \u001b[0m\u001b[1munused function 'f2py_size' [-Wunused-function]\u001b[0m\n",
      "static int f2py_size(PyArrayObject* var, ...)\n",
      "\u001b[0;1;32m           ^\n",
      "\u001b[0m2 warnings generated.\n",
      "1 warning generated.\n",
      "\u001b[39mcompiling Fortran sources\u001b[0m\n",
      "\u001b[39mFortran f77 compiler: /opt/homebrew/bin/gfortran -Wall -g -ffixed-form -fno-second-underscore -fPIC -O3 -funroll-loops\n",
      "Fortran f90 compiler: /opt/homebrew/bin/gfortran -Wall -g -fno-second-underscore -fPIC -O3 -funroll-loops\n",
      "Fortran fix compiler: /opt/homebrew/bin/gfortran -Wall -g -ffixed-form -fno-second-underscore -Wall -g -fno-second-underscore -fPIC -O3 -funroll-loops\u001b[0m\n",
      "\u001b[39mcompile options: '-I/var/folders/q6/by5wy_h90n96s1v6nb3t_qpc0000gn/T/tmpedr5a2om/src.macosx-11.0-arm64-3.9 -I/opt/homebrew/Caskroom/miniforge/base/lib/python3.9/site-packages/numpy/core/include -I/opt/homebrew/Caskroom/miniforge/base/include/python3.9 -c'\u001b[0m\n",
      "\u001b[39mgfortran:f90: h2s_tyuterev.f90\u001b[0m\n",
      "\u001b[01m\u001b[Kh2s_tyuterev.f90:131:36:\u001b[m\u001b[K\n",
      "\n",
      "  131 |     real(8), dimension(npoints) :: v,v0,v1,v2,v3,v4,v5,v6,v7,v8,rhh,vhh,y1,y2,y3\n",
      "      |                                    \u001b[01;35m\u001b[K1\u001b[m\u001b[K\n",
      "\u001b[01;35m\u001b[KWarning:\u001b[m\u001b[K Unused variable '\u001b[01m\u001b[Kv\u001b[m\u001b[K' declared at \u001b[01;35m\u001b[K(1)\u001b[m\u001b[K [\u001b[01;35m\u001b[K\u001b]8;;https://gcc.gnu.org/onlinedocs/gcc/Warning-Options.html#index-Wunused-variable\u0007-Wunused-variable\u001b]8;;\u0007\u001b[m\u001b[K]\n",
      "\u001b[39m/opt/homebrew/bin/gfortran -Wall -g -Wall -g -undefined dynamic_lookup -bundle /var/folders/q6/by5wy_h90n96s1v6nb3t_qpc0000gn/T/tmpedr5a2om/var/folders/q6/by5wy_h90n96s1v6nb3t_qpc0000gn/T/tmpedr5a2om/src.macosx-11.0-arm64-3.9/h2s_tyuterevmodule.o /var/folders/q6/by5wy_h90n96s1v6nb3t_qpc0000gn/T/tmpedr5a2om/var/folders/q6/by5wy_h90n96s1v6nb3t_qpc0000gn/T/tmpedr5a2om/src.macosx-11.0-arm64-3.9/fortranobject.o /var/folders/q6/by5wy_h90n96s1v6nb3t_qpc0000gn/T/tmpedr5a2om/h2s_tyuterev.o -L/opt/homebrew/Cellar/gcc/11.2.0_1/lib/gcc/11/gcc/aarch64-apple-darwin20/11.1.0 -L/opt/homebrew/Cellar/gcc/11.2.0_1/lib/gcc/11/gcc/aarch64-apple-darwin20/11.1.0/../../.. -L/opt/homebrew/Cellar/gcc/11.2.0_1/lib/gcc/11/gcc/aarch64-apple-darwin20/11.1.0/../../.. -lgfortran -o ./h2s_tyuterev.cpython-39-darwin.so\u001b[0m\n"
     ]
    },
    {
     "name": "stdout",
     "output_type": "stream",
     "text": [
      "ld: warning: dylib (/opt/homebrew/Cellar/gcc/11.2.0_1/lib/gcc/11/libgfortran.dylib) was built for newer macOS version (11.5) than being linked (11.0)\r\n",
      "Removing build directory /var/folders/q6/by5wy_h90n96s1v6nb3t_qpc0000gn/T/tmpedr5a2om\r\n"
     ]
    }
   ],
   "source": [
    "!f2py -c h2s_tyuterev.pyf h2s_tyuterev.f90"
   ]
  },
  {
   "cell_type": "code",
   "execution_count": 5,
   "id": "e785f9bf",
   "metadata": {},
   "outputs": [],
   "source": [
    "import h2s_tyuterev"
   ]
  },
  {
   "cell_type": "code",
   "execution_count": 6,
   "id": "d2a81f30",
   "metadata": {},
   "outputs": [
    {
     "name": "stdout",
     "output_type": "stream",
     "text": [
      "Help on module h2s_tyuterev:\n",
      "\n",
      "NAME\n",
      "    h2s_tyuterev\n",
      "\n",
      "DESCRIPTION\n",
      "    This module 'h2s_tyuterev' is auto-generated with f2py (version:1.21.2).\n",
      "    Functions:\n",
      "      f = h2s_tyuterev(r12,r32,alpha,npoints=len(r12))\n",
      "      f = poten_xy2_tyuterev(r12,r32,alpha,params,npoints=len(r12),nparams=len(params))\n",
      "    .\n",
      "\n",
      "DATA\n",
      "    __f2py_numpy_version__ = '1.21.2'\n",
      "    h2s_tyuterev = <fortran object>\n",
      "    poten_xy2_tyuterev = <fortran object>\n",
      "\n",
      "VERSION\n",
      "    1.21.2\n",
      "\n",
      "FILE\n",
      "    /Users/yachmena/richmol/potentials/h2s_tyuterev.cpython-39-darwin.so\n",
      "\n",
      "\n"
     ]
    }
   ],
   "source": [
    "help(h2s_tyuterev)"
   ]
  },
  {
   "cell_type": "code",
   "execution_count": 7,
   "id": "a23c5c34",
   "metadata": {},
   "outputs": [
    {
     "name": "stdout",
     "output_type": "stream",
     "text": [
      "f = h2s_tyuterev(r12,r32,alpha,[npoints])\n",
      "\n",
      "Wrapper for ``h2s_tyuterev``.\n",
      "\n",
      "Parameters\n",
      "----------\n",
      "r12 : input rank-1 array('d') with bounds (npoints)\n",
      "r32 : input rank-1 array('d') with bounds (npoints)\n",
      "alpha : input rank-1 array('d') with bounds (npoints)\n",
      "\n",
      "Other Parameters\n",
      "----------------\n",
      "npoints : input int, optional\n",
      "    Default: len(r12)\n",
      "\n",
      "Returns\n",
      "-------\n",
      "f : rank-1 array('d') with bounds (npoints)\n",
      "\n"
     ]
    }
   ],
   "source": [
    "print(h2s_tyuterev.h2s_tyuterev.__doc__)"
   ]
  },
  {
   "cell_type": "code",
   "execution_count": 9,
   "id": "0427cb93",
   "metadata": {},
   "outputs": [
    {
     "name": "stdout",
     "output_type": "stream",
     "text": [
      "equilibrium q0: [1.3358387  1.3358387  1.61042427]\n",
      "r1 potential cut\n"
     ]
    },
    {
     "data": {
      "image/png": "[encoded data removed]",
      "text/plain": [
       "<Figure size 432x288 with 1 Axes>"
      ]
     },
     "metadata": {
      "needs_background": "light"
     },
     "output_type": "display_data"
    },
    {
     "name": "stdout",
     "output_type": "stream",
     "text": [
      "alpha potential cut\n"
     ]
    },
    {
     "data": {
      "image/png": "[encoded data removed]",
      "text/plain": [
       "<Figure size 432x288 with 1 Axes>"
      ]
     },
     "metadata": {
      "needs_background": "light"
     },
     "output_type": "display_data"
    }
   ],
   "source": [
    "import matplotlib.pyplot as plt\n",
    "from scipy import optimize\n",
    "\n",
    "\n",
    "def poten(q):\n",
    "    r1, r2, a = q.T\n",
    "    return h2s_tyuterev.h2s_tyuterev(r1, r2, a)\n",
    "\n",
    "q0 = optimize.minimize(poten, [1.0, 1.0, np.pi/2]).x\n",
    "print(\"equilibrium q0:\", q0)\n",
    "\n",
    "\n",
    "r1 = np.linspace(0.5, 10.0, 100)\n",
    "q = np.array(np.broadcast_to(q0, (len(r1), len(q0))))\n",
    "q[:, 0] = r1\n",
    "v = poten(q)\n",
    "\n",
    "print(\"r1 potential cut\")\n",
    "plt.ylim(-2e3, 5e4)\n",
    "plt.plot(r1, poten(q))\n",
    "plt.show()\n",
    "\n",
    "\n",
    "a = np.linspace(30, 180, 100) * np.pi/180.0\n",
    "q = np.array(np.broadcast_to(q0, (len(a), len(q0))))\n",
    "q[:, 2] = a\n",
    "v = poten(q)\n",
    "\n",
    "print(\"alpha potential cut\")\n",
    "plt.plot(a, poten(q))\n",
    "plt.show()"
   ]
  },
  {
   "cell_type": "code",
   "execution_count": null,
   "id": "99486b29",
   "metadata": {},
   "outputs": [],
   "source": []
  }
 ],
 "metadata": {
  "kernelspec": {
   "display_name": "Python 3 (ipykernel)",
   "language": "python",
   "name": "python3"
  },
  "language_info": {
   "codemirror_mode": {
    "name": "ipython",
    "version": 3
   },
   "file_extension": ".py",
   "mimetype": "text/x-python",
   "name": "python",
   "nbconvert_exporter": "python",
   "pygments_lexer": "ipython3",
   "version": "3.9.6"
  }
 },
 "nbformat": 4,
 "nbformat_minor": 5
}
